{
 "cells": [
  {
   "cell_type": "code",
   "execution_count": null,
   "metadata": {
    "execution": {
     "iopub.execute_input": "2025-08-26T16:44:44.971615Z",
     "iopub.status.busy": "2025-08-26T16:44:44.971269Z",
     "iopub.status.idle": "2025-08-26T16:44:47.574770Z",
     "shell.execute_reply": "2025-08-26T16:44:47.573325Z",
     "shell.execute_reply.started": "2025-08-26T16:44:44.971591Z"
    },
    "trusted": true
   },
   "outputs": [
    {
     "name": "stdout",
     "output_type": "stream",
     "text": [
      "३. कब्जेफेडे:\n",
      "विक्रेत्याने आज विक्रेत्याने शांततापूर्ण आणि भौतिक कब्जा वर्णन केलेल्या मालमत्तेचा रिक्त, शांततापूर्ण आणि भौतिक कब्जा खरेदीदाराला दिला आहे. खरेदीदाराने तपासणी करून आणि त्यांच्या पूर्ण समाधानाने वर्णन केलेल्या मालमत्तेचा ताबा घेतला आहे. खरेदीदार कोणत्याही अडचण किंवा व्यत्ययाशिवाय कब्जा मान्य करतो.\n",
      "\n",
      "४. सरकारी कर आणि इतर बाबी:\n",
      "\n",
      "या कृतीच्या तारखेपर्यंत मालमत्ता कर, पाणी शुल्क, विज बिले, सोसायटी देखभाल आणि इतर बाह्य खर्च यासह सर्व सरकारी देयके विक्रेत्याने भरणे आणि भरले पाहिजे. खरेदीदार या कृती निर्णयाच्या तारखेपासून अशा देयके भरण्याची जबाबदारी स्वीकारतो. जर कोणती मागील देयके नंतर शोधली गेली तर विक्रेत्याला ती संपूर्णपणे स्वच्छ करण्याची एकट्याची जबाबदारी राहील.\n"
     ]
    }
   ],
   "source": [
    "from groq import Groq\n",
    "\n",
    "client = Groq(api_key=\"GROQ_API_KEY\")\n",
    "\n",
    "english_text = \"\"\"\n",
    "3. \tDelivery of Possession:\n",
    "The Seller has today delivered vacant, peaceful, and physical possession of the Said Property to the Buyer. The Buyer has taken over the Said Property after thorough inspection and to his/her full satisfaction. The Buyer acknowledges possession free from any hindrance or interference.\n",
    "4.\tGovernment Taxes and Other Dues:\n",
    "\n",
    "\tAll government dues, including property tax, water charges, electricity bills, society maintenance, and other outgoings up to the date of this deed shall be borne and paid by the Seller. The Buyer shall bear such liabilities from the date of execution of this deed onwards. If any past dues are discovered later, the Seller shall remain solely liable to clear them.\n",
    "\n",
    "\"\"\"\n",
    "\n",
    "\n",
    "completion = client.chat.completions.create(\n",
    "    model=\"llama-3.3-70b-versatile\",\n",
    "    messages=[\n",
    "        {\"role\": \"system\", \"content\": \"You are a translator that outputs Marathi text only.\"},\n",
    "        {\"role\": \"user\", \"content\": f\"Translate the following text into Marathi:\\n\\n{english_text}\"}\n",
    "    ],\n",
    "    temperature=0.1,\n",
    "    max_tokens=1500,\n",
    ")\n",
    "\n",
    "\n",
    "print(completion.choices[0].message.content)\n"
   ]
  },
  {
   "cell_type": "code",
   "execution_count": 10,
   "metadata": {
    "execution": {
     "iopub.execute_input": "2025-08-26T16:42:45.777054Z",
     "iopub.status.busy": "2025-08-26T16:42:45.776651Z",
     "iopub.status.idle": "2025-08-26T16:42:46.673322Z",
     "shell.execute_reply": "2025-08-26T16:42:46.672127Z",
     "shell.execute_reply.started": "2025-08-26T16:42:45.777028Z"
    },
    "trusted": true
   },
   "outputs": [
    {
     "name": "stdout",
     "output_type": "stream",
     "text": [
      "३. मालकीचे हस्तांतरण:\n",
      "विक्रेत्याने आज खरेदीदाराला उल्लेखित मालमत्तेचा रिकामा, शांत व शारीरिक ताबा सुपूर्द केला आहे. खरेदीदाराने सखोल तपासणीनंतर व पूर्ण समाधानाने उल्लेखित मालमत्ता स्वीकारली आहे. खरेदीदार मान्य करतो की ताबा कोणत्याही अडथळा किंवा हस्तक्षेपाविना आहे.\n",
      "\n",
      "४. सरकारी कर व इतर देयके:\n",
      "या दस्तऐवजाच्या दिनांकापर्यंतची सर्व सरकारी देयके, जसे की मालमत्ता कर, पाणी शुल्क, वीज बिल, सोसायटी देखभाल व इतर सर्व खर्च, विक्रेत्याने भरावेत व त्याची जबाबदारी घ्यावी. या दस्तऐवजाच्या अंमलबजावणीच्या दिनांकापासून खरेदीदाराला हे दायित्वे वहन करावी लागतील. भविष्यात कोणतीही जुनी देयके उघडल्यास, ती फक्त विक्रेत्याची जबाबदारी राहील.\n"
     ]
    }
   ],
   "source": [
    "english_text = \"\"\"\n",
    "3. \tDelivery of Possession:\n",
    "The Seller has today delivered vacant, peaceful, and physical possession of the Said Property to the Buyer. The Buyer has taken over the Said Property after thorough inspection and to his/her full satisfaction. The Buyer acknowledges possession free from any hindrance or interference.\n",
    "4.\tGovernment Taxes and Other Dues:\n",
    "\n",
    "\tAll government dues, including property tax, water charges, electricity bills, society maintenance, and other outgoings up to the date of this deed shall be borne and paid by the Seller. The Buyer shall bear such liabilities from the date of execution of this deed onwards. If any past dues are discovered later, the Seller shall remain solely liable to clear them.\n",
    "\n",
    "\"\"\"\n",
    "\n",
    "\n",
    "completion = client.chat.completions.create(\n",
    "    model=\"openai/gpt-oss-120b\",\n",
    "    messages=[\n",
    "        {\"role\": \"system\", \"content\": \"You are a translator that outputs Marathi text only.\"},\n",
    "        {\"role\": \"user\", \"content\": f\"Translate the following text into Marathi:\\n\\n{english_text}\"}\n",
    "    ],\n",
    "    temperature=0.1,\n",
    "    max_tokens=1500,\n",
    ")\n",
    "\n",
    "\n",
    "print(completion.choices[0].message.content)"
   ]
  },
  {
   "cell_type": "code",
   "execution_count": 12,
   "metadata": {
    "execution": {
     "iopub.execute_input": "2025-08-26T16:45:55.405030Z",
     "iopub.status.busy": "2025-08-26T16:45:55.404669Z",
     "iopub.status.idle": "2025-08-26T16:45:56.586347Z",
     "shell.execute_reply": "2025-08-26T16:45:56.585318Z",
     "shell.execute_reply.started": "2025-08-26T16:45:55.405002Z"
    },
    "trusted": true
   },
   "outputs": [
    {
     "name": "stdout",
     "output_type": "stream",
     "text": [
      "3. मालकीची सुपूर्दगी:  \n",
      "विक्रेत्याने आज निर्दिष्ट मालमत्तेची रिक्त, शांत आणि भौतिक मालकी खरेदीदाराला सुपूर्द केली आहे. खरेदीदाराने सखोल तपासणीनंतर आणि पूर्ण समाधानाने ती मालमत्ता स्वीकारली आहे. खरेदीदाराने कोणत्याही अडथळा किंवा हस्तक्षेपाशिवाय मालकी स्वीकारल्याचे मान्य केले आहे.  \n",
      "\n",
      "4. सरकारी कर व इतर देणी:  \n",
      "संपूर्ण सरकारी देणी, ज्यात मालमत्ता कर, पाणी शुल्क, वीज बिल, समाज देखभाल आणि या दस्तऐवजाच्या तारखेपर्यंतच्या इतर खर्चांचा समावेश आहे, ती विक्रेत्याने वहन करून भरावी. खरेदीदाराने या दस्तऐवजाच्या अंमलबजावणीच्या तारखेपासून अशा जबाबदाऱ्या वहन कराव्यात. जर नंतर कोणतीही पूर्व देणी आढळली तर ती स्पष्ट करण्याची जबाबदारी फक्त विक्रेत्यावरच राहील.\n"
     ]
    }
   ],
   "source": [
    "english_text = \"\"\"\n",
    "3. \tDelivery of Possession:\n",
    "The Seller has today delivered vacant, peaceful, and physical possession of the Said Property to the Buyer. The Buyer has taken over the Said Property after thorough inspection and to his/her full satisfaction. The Buyer acknowledges possession free from any hindrance or interference.\n",
    "4.\tGovernment Taxes and Other Dues:\n",
    "\n",
    "\tAll government dues, including property tax, water charges, electricity bills, society maintenance, and other outgoings up to the date of this deed shall be borne and paid by the Seller. The Buyer shall bear such liabilities from the date of execution of this deed onwards. If any past dues are discovered later, the Seller shall remain solely liable to clear them.\n",
    "\n",
    "\"\"\"\n",
    "\n",
    "\n",
    "completion = client.chat.completions.create(\n",
    "    model=\"openai/gpt-oss-20b\",\n",
    "    messages=[\n",
    "        {\"role\": \"system\", \"content\": \"You are a translator that outputs Marathi text only.\"},\n",
    "        {\"role\": \"user\", \"content\": f\"Translate the following text into Marathi:\\n\\n{english_text}\"}\n",
    "    ],\n",
    "    temperature=0.1,\n",
    "    max_tokens=1500,\n",
    ")\n",
    "\n",
    "\n",
    "print(completion.choices[0].message.content)"
   ]
  },
  {
   "cell_type": "code",
   "execution_count": null,
   "metadata": {
    "trusted": true
   },
   "outputs": [],
   "source": []
  }
 ],
 "metadata": {
  "kaggle": {
   "accelerator": "none",
   "dataSources": [],
   "dockerImageVersionId": 31089,
   "isGpuEnabled": false,
   "isInternetEnabled": true,
   "language": "python",
   "sourceType": "notebook"
  },
  "kernelspec": {
   "display_name": "Python 3",
   "language": "python",
   "name": "python3"
  },
  "language_info": {
   "codemirror_mode": {
    "name": "ipython",
    "version": 3
   },
   "file_extension": ".py",
   "mimetype": "text/x-python",
   "name": "python",
   "nbconvert_exporter": "python",
   "pygments_lexer": "ipython3",
   "version": "3.11.13"
  }
 },
 "nbformat": 4,
 "nbformat_minor": 4
}
