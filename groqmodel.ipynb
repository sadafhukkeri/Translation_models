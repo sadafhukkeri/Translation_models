{
 "cells": [
  {
   "cell_type": "code",
   "execution_count": null,
   "metadata": {
    "execution": {
     "iopub.execute_input": "2025-08-26T16:44:44.971615Z",
     "iopub.status.busy": "2025-08-26T16:44:44.971269Z",
     "iopub.status.idle": "2025-08-26T16:44:47.574770Z",
     "shell.execute_reply": "2025-08-26T16:44:47.573325Z",
     "shell.execute_reply.started": "2025-08-26T16:44:44.971591Z"
    },
    "trusted": true
   },
   "outputs": [
    {
     "name": "stdout",
     "output_type": "stream",
     "text": [
      "३. कब्जेफेडे:\n",
      "विक्रेत्याने आज विक्रेत्याने शांततापूर्ण आणि भौतिक कब्जा वर्णन केलेल्या मालमत्तेचा रिक्त, शांततापूर्ण आणि भौतिक कब्जा खरेदीदाराला दिला आहे. खरेदीदाराने तपासणी करून आणि त्यांच्या पूर्ण समाधानाने वर्णन केलेल्या मालमत्तेचा ताबा घेतला आहे. खरेदीदार कोणत्याही अडचण किंवा व्यत्ययाशिवाय कब्जा मान्य करतो.\n",
      "\n",
      "४. सरकारी कर आणि इतर बाबी:\n",
      "\n",
      "या कृतीच्या तारखेपर्यंत मालमत्ता कर, पाणी शुल्क, विज बिले, सोसायटी देखभाल आणि इतर बाह्य खर्च यासह सर्व सरकारी देयके विक्रेत्याने भरणे आणि भरले पाहिजे. खरेदीदार या कृती निर्णयाच्या तारखेपासून अशा देयके भरण्याची जबाबदारी स्वीकारतो. जर कोणती मागील देयके नंतर शोधली गेली तर विक्रेत्याला ती संपूर्णपणे स्वच्छ करण्याची एकट्याची जबाबदारी राहील.\n"
     ]
    }
   ],
   "source": [
    "from groq import Groq\n",
    "\n",
    "client = Groq(api_key=\"GROQ_API_KEY\")\n",
    "\n",
    "english_text = \"\"\"\n",
    "3. \tDelivery of Possession:\n",
    "The Seller has today delivered vacant, peaceful, and physical possession of the Said Property to the Buyer. The Buyer has taken over the Said Property after thorough inspection and to his/her full satisfaction. The Buyer acknowledges possession free from any hindrance or interference.\n",
    "4.\tGovernment Taxes and Other Dues:\n",
    "\n",
    "\tAll government dues, including property tax, water charges, electricity bills, society maintenance, and other outgoings up to the date of this deed shall be borne and paid by the Seller. The Buyer shall bear such liabilities from the date of execution of this deed onwards. If any past dues are discovered later, the Seller shall remain solely liable to clear them.\n",
    "\n",
    "\"\"\"\n",
    "\n",
    "\n",
    "completion = client.chat.completions.create(\n",
    "    model=\"llama-3.3-70b-versatile\",\n",
    "    messages=[\n",
    "        {\"role\": \"system\", \"content\": \"You are a translator that outputs Marathi text only.\"},\n",
    "        {\"role\": \"user\", \"content\": f\"Translate the following text into Marathi:\\n\\n{english_text}\"}\n",
    "    ],\n",
    "    temperature=0.1,\n",
    "    max_tokens=1500,\n",
    ")\n",
    "\n",
    "\n",
    "print(completion.choices[0].message.content)\n"
   ]
  },
  {
   "cell_type": "code",
   "execution_count": 10,
   "metadata": {
    "execution": {
     "iopub.execute_input": "2025-08-26T16:42:45.777054Z",
     "iopub.status.busy": "2025-08-26T16:42:45.776651Z",
     "iopub.status.idle": "2025-08-26T16:42:46.673322Z",
     "shell.execute_reply": "2025-08-26T16:42:46.672127Z",
     "shell.execute_reply.started": "2025-08-26T16:42:45.777028Z"
    },
    "trusted": true
   },
   "outputs": [
    {
     "name": "stdout",
     "output_type": "stream",
     "text": [
      "३. मालकीचे हस्तांतरण:\n",
      "विक्रेत्याने आज खरेदीदाराला उल्लेखित मालमत्तेचा रिकामा, शांत व शारीरिक ताबा सुपूर्द केला आहे. खरेदीदाराने सखोल तपासणीनंतर व पूर्ण समाधानाने उल्लेखित मालमत्ता स्वीकारली आहे. खरेदीदार मान्य करतो की ताबा कोणत्याही अडथळा किंवा हस्तक्षेपाविना आहे.\n",
      "\n",
      "४. सरकारी कर व इतर देयके:\n",
      "या दस्तऐवजाच्या दिनांकापर्यंतची सर्व सरकारी देयके, जसे की मालमत्ता कर, पाणी शुल्क, वीज बिल, सोसायटी देखभाल व इतर सर्व खर्च, विक्रेत्याने भरावेत व त्याची जबाबदारी घ्यावी. या दस्तऐवजाच्या अंमलबजावणीच्या दिनांकापासून खरेदीदाराला हे दायित्वे वहन करावी लागतील. भविष्यात कोणतीही जुनी देयके उघडल्यास, ती फक्त विक्रेत्याची जबाबदारी राहील.\n"
     ]
    }
   ],
   "source": [
    "english_text = \"\"\"\n",
    "3. \tDelivery of Possession:\n",
    "The Seller has today delivered vacant, peaceful, and physical possession of the Said Property to the Buyer. The Buyer has taken over the Said Property after thorough inspection and to his/her full satisfaction. The Buyer acknowledges possession free from any hindrance or interference.\n",
    "4.\tGovernment Taxes and Other Dues:\n",
    "\n",
    "\tAll government dues, including property tax, water charges, electricity bills, society maintenance, and other outgoings up to the date of this deed shall be borne and paid by the Seller. The Buyer shall bear such liabilities from the date of execution of this deed onwards. If any past dues are discovered later, the Seller shall remain solely liable to clear them.\n",
    "\n",
    "\"\"\"\n",
    "\n",
    "\n",
    "completion = client.chat.completions.create(\n",
    "    model=\"openai/gpt-oss-120b\",\n",
    "    messages=[\n",
    "        {\"role\": \"system\", \"content\": \"You are a translator that outputs Marathi text only.\"},\n",
    "        {\"role\": \"user\", \"content\": f\"Translate the following text into Marathi:\\n\\n{english_text}\"}\n",
    "    ],\n",
    "    temperature=0.1,\n",
    "    max_tokens=1500,\n",
    ")\n",
    "\n",
    "\n",
    "print(completion.choices[0].message.content)"
   ]
  },
  {
   "cell_type": "code",
   "execution_count": 12,
   "metadata": {
    "execution": {
     "iopub.execute_input": "2025-08-26T16:45:55.405030Z",
     "iopub.status.busy": "2025-08-26T16:45:55.404669Z",
     "iopub.status.idle": "2025-08-26T16:45:56.586347Z",
     "shell.execute_reply": "2025-08-26T16:45:56.585318Z",
     "shell.execute_reply.started": "2025-08-26T16:45:55.405002Z"
    },
    "trusted": true
   },
   "outputs": [
    {
     "name": "stdout",
     "output_type": "stream",
     "text": [
      "3. मालकीची सुपूर्दगी:  \n",
      "विक्रेत्याने आज निर्दिष्ट मालमत्तेची रिक्त, शांत आणि भौतिक मालकी खरेदीदाराला सुपूर्द केली आहे. खरेदीदाराने सखोल तपासणीनंतर आणि पूर्ण समाधानाने ती मालमत्ता स्वीकारली आहे. खरेदीदाराने कोणत्याही अडथळा किंवा हस्तक्षेपाशिवाय मालकी स्वीकारल्याचे मान्य केले आहे.  \n",
      "\n",
      "4. सरकारी कर व इतर देणी:  \n",
      "संपूर्ण सरकारी देणी, ज्यात मालमत्ता कर, पाणी शुल्क, वीज बिल, समाज देखभाल आणि या दस्तऐवजाच्या तारखेपर्यंतच्या इतर खर्चांचा समावेश आहे, ती विक्रेत्याने वहन करून भरावी. खरेदीदाराने या दस्तऐवजाच्या अंमलबजावणीच्या तारखेपासून अशा जबाबदाऱ्या वहन कराव्यात. जर नंतर कोणतीही पूर्व देणी आढळली तर ती स्पष्ट करण्याची जबाबदारी फक्त विक्रेत्यावरच राहील.\n"
     ]
    }
   ],
   "source": [
    "english_text = \"\"\"\n",
    "3. \tDelivery of Possession:\n",
    "The Seller has today delivered vacant, peaceful, and physical possession of the Said Property to the Buyer. The Buyer has taken over the Said Property after thorough inspection and to his/her full satisfaction. The Buyer acknowledges possession free from any hindrance or interference.\n",
    "4.\tGovernment Taxes and Other Dues:\n",
    "\n",
    "\tAll government dues, including property tax, water charges, electricity bills, society maintenance, and other outgoings up to the date of this deed shall be borne and paid by the Seller. The Buyer shall bear such liabilities from the date of execution of this deed onwards. If any past dues are discovered later, the Seller shall remain solely liable to clear them.\n",
    "\n",
    "\"\"\"\n",
    "\n",
    "\n",
    "completion = client.chat.completions.create(\n",
    "    model=\"openai/gpt-oss-20b\",\n",
    "    messages=[\n",
    "        {\"role\": \"system\", \"content\": \"You are a translator that outputs Marathi text only.\"},\n",
    "        {\"role\": \"user\", \"content\": f\"Translate the following text into Marathi:\\n\\n{english_text}\"}\n",
    "    ],\n",
    "    temperature=0.1,\n",
    "    max_tokens=1500,\n",
    ")\n",
    "\n",
    "\n",
    "print(completion.choices[0].message.content)"
   ]
  },
  {
   "cell_type": "code",
   "execution_count": 18,
   "metadata": {},
   "outputs": [
    {
     "name": "stdout",
     "output_type": "stream",
     "text": [
      "हे मदत करते का ते पहा\n",
      "तारुन\n"
     ]
    }
   ],
   "source": [
    "from googletrans import Translator\n",
    "import asyncio\n",
    "\n",
    "translator = Translator()\n",
    "\n",
    "# Use an async function\n",
    "async def translate_phrases():\n",
    "    translations = await translator.translate(['see if this helps', 'tarun'], dest='mr')\n",
    "    for translation in translations:\n",
    "        print(translation.text)\n",
    "\n",
    "# In Jupyter, just do:\n",
    "await translate_phrases()\n"
   ]
  },
  {
   "cell_type": "code",
   "execution_count": 17,
   "metadata": {},
   "outputs": [
    {
     "name": "stdout",
     "output_type": "stream",
     "text": [
      "{'abkhaz': 'abk', 'acehnese': 'ace', 'acholi': 'ach', 'afar': 'aar', 'afrikaans': 'af', 'albanian': 'sq', 'alur': 'alz', 'amharic': 'am', 'arabic': 'ar', 'armenian': 'hy', 'assamese': 'as', 'avar': 'ava', 'awadhi': 'awa', 'aymara': 'ay', 'azerbaijani': 'az', 'balinese': 'ban', 'baluchi': 'bal', 'bambara': 'bm', 'baoulé': 'bci', 'bashkir': 'bak', 'basque': 'eu', 'batak karo': 'btx', 'batak simalungun': 'bts', 'batak toba': 'bbc', 'belarusian': 'be', 'bemba': 'bem', 'bengali': 'bn', 'betawi': 'bew', 'bhojpuri': 'bho', 'bikol': 'bik', 'bosnian': 'bs', 'breton': 'bre', 'bulgarian': 'bg', 'buryat': 'bua', 'cantonese': 'yue', 'catalan': 'ca', 'cebuano': 'ceb', 'chamorro': 'cha', 'chechen': 'che', 'chinese': 'zh', 'chinese (simplified)': 'zh-cn', 'chinese (traditional)': 'zh-tw', 'chuukese': 'chk', 'chuvash': 'chv', 'corsican': 'co', 'crimean tatar': 'crh', 'croatian': 'hr', 'czech': 'cs', 'danish': 'da', 'dari': 'fa-af', 'dhivehi': 'dv', 'dinka': 'din', 'dogri': 'doi', 'dombe': 'dom', 'dutch': 'nl', 'dyula': 'dyu', 'dzongkha': 'dzo', 'english': 'en', 'esperanto': 'eo', 'estonian': 'et', 'faroese': 'fao', 'fijian': 'fij', 'filipino (tagalog)': 'fil', 'finnish': 'fi', 'fon': 'fon', 'french': 'fr', 'frisian': 'fy', 'friulian': 'fur', 'fulani': 'ful', 'ga': 'gaa', 'galician': 'gl', 'georgian': 'ka', 'german': 'de', 'greek': 'el', 'guarani': 'gn', 'gujarati': 'gu', 'haitian creole': 'ht', 'hakha chin': 'cnh', 'hausa': 'ha', 'hawaiian': 'haw', 'hebrew': 'iw', 'hiligaynon': 'hil', 'hindi': 'hi', 'hmong': 'hmn', 'hungarian': 'hu', 'hunsrik': 'hrx', 'iban': 'iba', 'icelandic': 'is', 'igbo': 'ig', 'ilocano': 'ilo', 'indonesian': 'id', 'irish': 'ga', 'italian': 'it', 'jamaican patois': 'jam', 'japanese': 'ja', 'javanese': 'jw', 'jingpo': 'kac', 'kalaallisut': 'kal', 'kannada': 'kn', 'kanuri': 'kau', 'kapampangan': 'pam', 'kazakh': 'kk', 'khasi': 'kha', 'khmer': 'km', 'kiga': 'cgg', 'kikongo': 'kik', 'kinyarwanda': 'rw', 'kituba': 'ktu', 'kokborok': 'trp', 'komi': 'kom', 'konkani': 'gom', 'korean': 'ko', 'krio': 'kri', 'kurdish': 'ku', 'kurdish (sorani)': 'ckb', 'kyrgyz': 'ky', 'lao': 'lo', 'latgalian': 'ltg', 'latin': 'la', 'latvian': 'lv', 'ligurian': 'lij', 'limburgish': 'lim', 'lingala': 'ln', 'lithuanian': 'lt', 'lombard': 'lmo', 'luganda': 'lg', 'luo': 'luo', 'luxembourgish': 'lb', 'macedonian': 'mk', 'madurese': 'mad', 'maithili': 'mai', 'makassar': 'mak', 'malagasy': 'mg', 'malay': 'ms', 'malay (jawi)': 'ms-arab', 'malayalam': 'ml', 'maltese': 'mt', 'mam': 'mam', 'manx': 'glv', 'maori': 'mi', 'marathi': 'mr', 'marshallese': 'mah', 'marwadi': 'mwr', 'mauritian creole': 'mfe', 'meadow mari': 'mhr', 'meiteilon (manipuri)': 'mni-mtei', 'minang': 'min', 'mizo': 'lus', 'mongolian': 'mn', 'myanmar (burmese)': 'my', 'nahuatl (eastern huasteca)': 'nhe', 'ndau': 'ndc-zw', 'ndebele (south)': 'nde', 'nepalbhasa (newari)': 'new', 'nepali': 'ne', 'norwegian': 'no', 'nuer': 'nus', 'nyanja (chichewa)': 'ny', 'occitan': 'oci', 'odia (oriya)': 'or', 'oromo': 'om', 'ossetian': 'oss', 'pangasinan': 'pag', 'papiamento': 'pap', 'pashto': 'ps', 'persian': 'fa', 'polish': 'pl', 'portuguese (portugal)': 'por', 'portuguese (portugal, brazil)': 'pt', 'punjabi': 'pa', 'punjabi (shahmukhi)': 'pa-arab', \"q'eqchi'\": 'kek', 'quechua': 'qu', 'romani': 'rom', 'romanian': 'ro', 'rundi': 'run', 'russian': 'ru', 'sami (north)': 'sme', 'samoan': 'sm', 'sango': 'sag', 'sanskrit': 'sa', 'santali': 'sat', 'scots gaelic': 'gd', 'sepedi': 'nso', 'serbian': 'sr', 'sesotho': 'st', 'seychellois creole': 'crs', 'shan': 'shn', 'shona': 'sn', 'sicilian': 'scn', 'silesian': 'szl', 'sindhi': 'sd', 'sinhala (sinhalese)': 'si', 'slovak': 'sk', 'slovenian': 'sl', 'somali': 'so', 'spanish': 'es', 'sundanese': 'su', 'susu': 'sus', 'swahili': 'sw', 'swati': 'ssw', 'swedish': 'sv', 'tagalog (filipino)': 'tl', 'tahitian': 'tah', 'tajik': 'tg', 'tamazight': 'ber-atn', 'tamazight (tifinagh)': 'ber', 'tamil': 'ta', 'tatar': 'tt', 'telugu': 'te', 'tetum': 'tet', 'thai': 'th', 'tibetan': 'bod', 'tigrinya': 'ti', 'tiv': 'tiv', 'tok pisin': 'tpi', 'tongan': 'ton', 'tsonga': 'ts', 'tswana': 'tsn', 'tulu': 'tcy', 'tumbuka': 'tum', 'turkish': 'tr', 'turkmen': 'tk', 'tuvan': 'tuk', 'twi (akan)': 'ak', 'udmurt': 'udm', 'ukrainian': 'uk', 'urdu': 'ur', 'uyghur': 'ug', 'uzbek': 'uz', 'venda': 'ven', 'venetian': 'vec', 'vietnamese': 'vi', 'waray': 'war', 'welsh': 'cy', 'wolof': 'wol', 'xhosa': 'xh', 'yakut': 'sah', 'yiddish': 'yi', 'yoruba': 'yo', 'yucatec maya': 'yua', 'zapotec': 'zap', 'zulu': 'zu'}\n",
      "{'abk': 'abkhaz', 'ace': 'acehnese', 'ach': 'acholi', 'aar': 'afar', 'af': 'afrikaans', 'sq': 'albanian', 'alz': 'alur', 'am': 'amharic', 'ar': 'arabic', 'hy': 'armenian', 'as': 'assamese', 'ava': 'avar', 'awa': 'awadhi', 'ay': 'aymara', 'az': 'azerbaijani', 'ban': 'balinese', 'bal': 'baluchi', 'bm': 'bambara', 'bci': 'baoulé', 'bak': 'bashkir', 'eu': 'basque', 'btx': 'batak karo', 'bts': 'batak simalungun', 'bbc': 'batak toba', 'be': 'belarusian', 'bem': 'bemba', 'bn': 'bengali', 'bew': 'betawi', 'bho': 'bhojpuri', 'bik': 'bikol', 'bs': 'bosnian', 'bre': 'breton', 'bg': 'bulgarian', 'bua': 'buryat', 'yue': 'cantonese', 'ca': 'catalan', 'ceb': 'cebuano', 'cha': 'chamorro', 'che': 'chechen', 'zh': 'chinese', 'zh-cn': 'chinese (simplified)', 'zh-tw': 'chinese (traditional)', 'chk': 'chuukese', 'chv': 'chuvash', 'co': 'corsican', 'crh': 'crimean tatar', 'hr': 'croatian', 'cs': 'czech', 'da': 'danish', 'fa-af': 'dari', 'dv': 'dhivehi', 'din': 'dinka', 'doi': 'dogri', 'dom': 'dombe', 'nl': 'dutch', 'dyu': 'dyula', 'dzo': 'dzongkha', 'en': 'english', 'eo': 'esperanto', 'et': 'estonian', 'fao': 'faroese', 'fij': 'fijian', 'fil': 'filipino (tagalog)', 'fi': 'finnish', 'fon': 'fon', 'fr': 'french', 'fy': 'frisian', 'fur': 'friulian', 'ful': 'fulani', 'gaa': 'ga', 'gl': 'galician', 'ka': 'georgian', 'de': 'german', 'el': 'greek', 'gn': 'guarani', 'gu': 'gujarati', 'ht': 'haitian creole', 'cnh': 'hakha chin', 'ha': 'hausa', 'haw': 'hawaiian', 'he': 'hebrew', 'iw': 'hebrew', 'hil': 'hiligaynon', 'hi': 'hindi', 'hmn': 'hmong', 'hu': 'hungarian', 'hrx': 'hunsrik', 'iba': 'iban', 'is': 'icelandic', 'ig': 'igbo', 'ilo': 'ilocano', 'id': 'indonesian', 'ga': 'irish', 'it': 'italian', 'jam': 'jamaican patois', 'ja': 'japanese', 'jv': 'javanese', 'jw': 'javanese', 'kac': 'jingpo', 'kal': 'kalaallisut', 'kn': 'kannada', 'kau': 'kanuri', 'pam': 'kapampangan', 'kk': 'kazakh', 'kha': 'khasi', 'km': 'khmer', 'cgg': 'kiga', 'kik': 'kikongo', 'rw': 'kinyarwanda', 'ktu': 'kituba', 'trp': 'kokborok', 'kom': 'komi', 'gom': 'konkani', 'ko': 'korean', 'kri': 'krio', 'ku': 'kurdish', 'ckb': 'kurdish (sorani)', 'ky': 'kyrgyz', 'lo': 'lao', 'ltg': 'latgalian', 'la': 'latin', 'lv': 'latvian', 'lij': 'ligurian', 'lim': 'limburgish', 'ln': 'lingala', 'lt': 'lithuanian', 'lmo': 'lombard', 'lg': 'luganda', 'luo': 'luo', 'lb': 'luxembourgish', 'mk': 'macedonian', 'mad': 'madurese', 'mai': 'maithili', 'mak': 'makassar', 'mg': 'malagasy', 'ms': 'malay', 'ms-arab': 'malay (jawi)', 'ml': 'malayalam', 'mt': 'maltese', 'mam': 'mam', 'glv': 'manx', 'mi': 'maori', 'mr': 'marathi', 'mah': 'marshallese', 'mwr': 'marwadi', 'mfe': 'mauritian creole', 'mhr': 'meadow mari', 'mni-mtei': 'meiteilon (manipuri)', 'min': 'minang', 'lus': 'mizo', 'mn': 'mongolian', 'my': 'myanmar (burmese)', 'nhe': 'nahuatl (eastern huasteca)', 'ndc-zw': 'ndau', 'nde': 'ndebele (south)', 'new': 'nepalbhasa (newari)', 'ne': 'nepali', 'no': 'norwegian', 'nus': 'nuer', 'ny': 'nyanja (chichewa)', 'oci': 'occitan', 'or': 'odia (oriya)', 'om': 'oromo', 'oss': 'ossetian', 'pag': 'pangasinan', 'pap': 'papiamento', 'ps': 'pashto', 'fa': 'persian', 'pl': 'polish', 'por': 'portuguese (portugal)', 'pt': 'portuguese (portugal, brazil)', 'pa': 'punjabi', 'pa-arab': 'punjabi (shahmukhi)', 'kek': \"q'eqchi'\", 'qu': 'quechua', 'rom': 'romani', 'ro': 'romanian', 'run': 'rundi', 'ru': 'russian', 'sme': 'sami (north)', 'sm': 'samoan', 'sag': 'sango', 'sa': 'sanskrit', 'sat': 'santali', 'gd': 'scots gaelic', 'nso': 'sepedi', 'sr': 'serbian', 'st': 'sesotho', 'crs': 'seychellois creole', 'shn': 'shan', 'sn': 'shona', 'scn': 'sicilian', 'szl': 'silesian', 'sd': 'sindhi', 'si': 'sinhala (sinhalese)', 'sk': 'slovak', 'sl': 'slovenian', 'so': 'somali', 'es': 'spanish', 'su': 'sundanese', 'sus': 'susu', 'sw': 'swahili', 'ssw': 'swati', 'sv': 'swedish', 'tl': 'tagalog (filipino)', 'tah': 'tahitian', 'tg': 'tajik', 'ber-atn': 'tamazight', 'ber': 'tamazight (tifinagh)', 'ta': 'tamil', 'tt': 'tatar', 'te': 'telugu', 'tet': 'tetum', 'th': 'thai', 'bod': 'tibetan', 'ti': 'tigrinya', 'tiv': 'tiv', 'tpi': 'tok pisin', 'ton': 'tongan', 'ts': 'tsonga', 'tsn': 'tswana', 'tcy': 'tulu', 'tum': 'tumbuka', 'tr': 'turkish', 'tk': 'turkmen', 'tuk': 'tuvan', 'ak': 'twi (akan)', 'udm': 'udmurt', 'uk': 'ukrainian', 'ur': 'urdu', 'ug': 'uyghur', 'uz': 'uzbek', 'ven': 'venda', 'vec': 'venetian', 'vi': 'vietnamese', 'war': 'waray', 'cy': 'welsh', 'wol': 'wolof', 'xh': 'xhosa', 'sah': 'yakut', 'yi': 'yiddish', 'yo': 'yoruba', 'yua': 'yucatec maya', 'zap': 'zapotec', 'zu': 'zulu'}\n"
     ]
    }
   ],
   "source": [
    "import googletrans\n",
    "\n",
    "\n",
    "print(googletrans.LANGCODES)  # {language name: iso639-1 language code}\n",
    "# or\n",
    "print(googletrans.LANGUAGES)  # {iso639-1 language code: language name}"
   ]
  },
  {
   "cell_type": "code",
   "execution_count": null,
   "metadata": {},
   "outputs": [
    {
     "name": "stdout",
     "output_type": "stream",
     "text": [
      "                Model                                                                                                                                                                                                                                                                                                                                                                                                                                                                                                                                                                                                                                                                                  Marathi Translation Exact Key Term Match Fluency Score Consistency Score Error Rate\n",
      "0    Google Translate                                              3. ताब्यात वितरण:\\nविक्रेत्याने आज रिक्त, शांततापूर्ण आणि त्या मालमत्तेचा भौतिक ताबा खरेदीदारास दिला आहे. संपूर्ण तपासणीनंतर आणि तिच्या पूर्ण समाधानासाठी खरेदीदाराने ही मालमत्ता ताब्यात घेतली आहे. खरेदीदार कोणत्याही अडथळ्यापासून किंवा हस्तक्षेपापासून मुक्त ताबा कबूल करतो.\\n4. सरकारी कर आणि इतर थकबाकी:\\nया कृत्याच्या तारखेपर्यंत मालमत्ता कर, पाणी शुल्क, वीज बिले, सोसायटी देखभाल आणि इतर आउटगोइंगसह सर्व सरकारी थकबाकी विक्रेत्याद्वारे दिली जाईल आणि भरली जाईल. या कराराच्या अंमलबजावणीच्या तारखेपासून खरेदीदार अशा जबाबदा .्या सहन करतील. जर मागील कोणत्याही थकबाकी नंतर सापडली तर विक्रेता त्यांना साफ करण्यासाठी पूर्णपणे जबाबदार राहील.                  0/5           TBD               TBD        TBD\n",
      "1  Groq LLaMA 3.3-70B                        ३. ताबा हस्तांतरण:\\nविक्रेत्याने आज विक्रेत्याने शांततापूर्ण आणि भौतिक ताबा या म्हणजेच वरील संपत्तीचा ताबा खरेदीदाराला दिला आहे. खरेदीदाराने तपासणी करून आणि त्याच्या पूर्ण समाधानाने वरील संपत्तीचा ताबा घेतला आहे. खरेदीदार कोणत्याही अडथळ्यांविना ताबा मिळाल्याचे मान्य करतो.\\n४. सरकारी कर आणि इतर बाबी:\\nमालमत्ता कर, पाणी कर, विज बिले, सोसायटी देखभाल आणि या कृतीच्या तारखेपर्यंतचे इतर सर्व सरकारी बाबींचा भार विक्रेत्याने सहन केला पाहिजे आणि तो भरणा पाहिजे. या कृतीच्या कार्यान्वयनाच्या तारखेपासून खरेदीदारास या जबाबदाऱ्या स्वीकाराव्या लागतील. जर कोणते मागील बाकी देये नंतर शोधले गेले तर विक्रेत्याला ते संपूर्णपणे स्वच्छ करण्यास जबाबदार राहणे आवश्यक आहे.                  0/5           TBD               TBD        TBD\n",
      "2        GPT-OSS 120B                                                                               ३. ताब्याचा वितरण:\\nविक्रेत्याने आज खरेदीदाराला उल्लेखित मालमत्तेचा रिकामा, शांत व शारीरिक ताबा सुपूर्द केला आहे. खरेदीदाराने सखोल तपासणीनंतर व पूर्ण समाधानाने उल्लेखित मालमत्ता स्वीकारली आहे. खरेदीदार मान्य करतो की ताबा कोणत्याही अडथळा किंवा हस्तक्षेपाविना आहे.\\n\\n४. सरकारी कर व इतर देयके:\\nया दस्तऐवजाच्या दिनांकापर्यंतची सर्व सरकारी देयके, जसे की मालमत्ता कर, पाणी शुल्क, वीज बिल, सोसायटी देखभाल व इतर खर्च, विक्रेत्याने वहन व भरलेली असतील. या दस्तऐवजाच्या अंमलबजावणीच्या दिनांकापासून खरेदीदाराने ही जबाबदारी स्वीकारेल. भविष्यात कोणतीही जुनी देयके उघडल्यास, ती फक्त विक्रेत्याची जबाबदारी राहील.                  0/5           TBD               TBD        TBD\n",
      "3         GPT-OSS 20B  ३. मालकीची सुपूर्दगी:\\nविक्रेत्याने आज निर्दिष्ट मालमत्तेची रिक्त, शांत आणि भौतिक मालकी खरेदीदाराला सुपूर्द केली आहे. खरेदीदाराने सखोल तपासणीनंतर आणि पूर्ण समाधानानंतर ती मालमत्ता स्वीकारली आहे. खरेदीदाराने कोणत्याही अडथळा किंवा हस्तक्षेपाशिवाय मालकी स्वीकारल्याचे मान्य केले आहे.\\n\\n४. सरकारी कर व इतर देयके:\\nसंपूर्ण सरकारी देयके, ज्यामध्ये मालमत्ता कर, पाणी शुल्क, वीज बिल, समाजाची देखभाल आणि या दस्तऐवजाच्या तारखेपर्यंतचे इतर सर्व खर्च समाविष्ट आहेत, ते विक्रेत्याने वहन करून भरणे आवश्यक आहे. या दस्तऐवजाच्या अंमलबजावणीच्या तारखेपासून पुढे खरेदीदाराने अशा जबाबदाऱ्या वहन कराव्यात. जर नंतर कोणतीही पूर्वीची देयके आढळली तर ती साफ करण्याची जबाबदारी फक्त विक्रेत्यावरच राहील.                  0/5           TBD               TBD        TBD\n"
     ]
    }
   ],
   "source": [
    "import pandas as pd\n",
    "from googletrans import Translator\n",
    "from groq import Groq\n",
    "\n",
    "translator = Translator()\n",
    "client = Groq(api_key=\"GROQ_API_KEY\")\n",
    "\n",
    "english_text = \"\"\"\n",
    "3. Delivery of Possession:\n",
    "The Seller has today delivered vacant, peaceful, and physical possession of the Said Property to the Buyer. The Buyer has taken over the Said Property after thorough inspection and to his/her full satisfaction. The Buyer acknowledges possession free from any hindrance or interference.\n",
    "4. Government Taxes and Other Dues:\n",
    "All government dues, including property tax, water charges, electricity bills, society maintenance, and other outgoings up to the date of this deed shall be borne and paid by the Seller. The Buyer shall bear such liabilities from the date of execution of this deed onwards. If any past dues are discovered later, the Seller shall remain solely liable to clear them.\n",
    "\"\"\"\n",
    "\n",
    "\n",
    "google_translation = (await translator.translate([english_text], dest='mr'))[0].text\n",
    "\n",
    "\n",
    "groq_translation = client.chat.completions.create(\n",
    "    model=\"llama-3.3-70b-versatile\",\n",
    "    messages=[\n",
    "        {\"role\": \"system\", \"content\": \"You are a translator that outputs Marathi text only.\"},\n",
    "        {\"role\": \"user\", \"content\": f\"Translate the following text into Marathi:\\n\\n{english_text}\"}\n",
    "    ],\n",
    "    temperature=0.1,\n",
    "    max_tokens=1500,\n",
    ").choices[0].message.content\n",
    "\n",
    "\n",
    "gpt_120b_translation = client.chat.completions.create(\n",
    "    model=\"openai/gpt-oss-120b\",\n",
    "    messages=[\n",
    "        {\"role\": \"system\", \"content\": \"You are a translator that outputs Marathi text only.\"},\n",
    "        {\"role\": \"user\", \"content\": f\"Translate the following text into Marathi:\\n\\n{english_text}\"}\n",
    "    ],\n",
    "    temperature=0.1,\n",
    "    max_tokens=1500,\n",
    ").choices[0].message.content\n",
    "\n",
    "\n",
    "gpt_20b_translation = client.chat.completions.create(\n",
    "    model=\"openai/gpt-oss-20b\",\n",
    "    messages=[\n",
    "        {\"role\": \"system\", \"content\": \"You are a translator that outputs Marathi text only.\"},\n",
    "        {\"role\": \"user\", \"content\": f\"Translate the following text into Marathi:\\n\\n{english_text}\"}\n",
    "    ],\n",
    "    temperature=0.1,\n",
    "    max_tokens=1500,\n",
    ").choices[0].message.content\n",
    "\n",
    "\n",
    "key_terms = [\"possession\", \"Seller\", \"Buyer\", \"property tax\", \"government dues\"]\n",
    "\n",
    "\n",
    "\n",
    "df = pd.DataFrame({\n",
    "    \"Model\": [\"Google Translate\", \"Groq LLaMA 3.3-70B\", \"GPT-OSS 120B\", \"GPT-OSS 20B\"],\n",
    "    \"Marathi Translation\": [\n",
    "        google_translation,\n",
    "        groq_translation,\n",
    "        gpt_120b_translation,\n",
    "        gpt_20b_translation\n",
    "    ]\n",
    "})\n",
    "\n",
    "\n",
    "print(df.to_string())\n"
   ]
  },
  {
   "cell_type": "code",
   "execution_count": null,
   "metadata": {},
   "outputs": [
    {
     "data": {
      "text/html": [
       "\n",
       "<div style=\"max-height:500px; overflow:auto; border:1px solid #ccc; padding:5px\">\n",
       "<table border=\"1\" class=\"dataframe\">\n",
       "  <thead>\n",
       "    <tr style=\"text-align: right;\">\n",
       "      <th></th>\n",
       "      <th>Model</th>\n",
       "      <th>Marathi Translation</th>\n",
       "      <th>Exact Key Term Match</th>\n",
       "      <th>Fluency Score</th>\n",
       "      <th>Consistency Score</th>\n",
       "      <th>Error Rate</th>\n",
       "    </tr>\n",
       "  </thead>\n",
       "  <tbody>\n",
       "    <tr>\n",
       "      <th>0</th>\n",
       "      <td>Google Translate</td>\n",
       "      <td>3. ताब्यात वितरण:\\nविक्रेत्याने आज रिक्त, शांततापूर्ण आणि त्या मालमत्तेचा भौतिक ताबा खरेदीदारास दिला आहे. संपूर्ण तपासणीनंतर आणि तिच्या पूर्ण समाधानासाठी खरेदीदाराने ही मालमत्ता ताब्यात घेतली आहे. खरेदीदार कोणत्याही अडथळ्यापासून किंवा हस्तक्षेपापासून मुक्त ताबा कबूल करतो.\\n4. सरकारी कर आणि इतर थकबाकी:\\nया कृत्याच्या तारखेपर्यंत मालमत्ता कर, पाणी शुल्क, वीज बिले, सोसायटी देखभाल आणि इतर आउटगोइंगसह सर्व सरकारी थकबाकी विक्रेत्याद्वारे दिली जाईल आणि भरली जाईल. या कराराच्या अंमलबजावणीच्या तारखेपासून खरेदीदार अशा जबाबदा .्या सहन करतील. जर मागील कोणत्याही थकबाकी नंतर सापडली तर विक्रेता त्यांना साफ करण्यासाठी पूर्णपणे जबाबदार राहील.</td>\n",
       "      <td>0/5</td>\n",
       "      <td>TBD</td>\n",
       "      <td>TBD</td>\n",
       "      <td>TBD</td>\n",
       "    </tr>\n",
       "    <tr>\n",
       "      <th>1</th>\n",
       "      <td>Groq LLaMA 3.3-70B</td>\n",
       "      <td>३. ताबा हस्तांतरण:\\nविक्रेत्याने आज विक्रेत्याने शांततापूर्ण आणि भौतिक ताबा या म्हणजेच वरील संपत्तीचा ताबा खरेदीदाराला दिला आहे. खरेदीदाराने तपासणी करून आणि त्याच्या पूर्ण समाधानाने वरील संपत्तीचा ताबा घेतला आहे. खरेदीदार कोणत्याही अडथळ्यांविना ताबा मिळाल्याचे मान्य करतो.\\n४. सरकारी कर आणि इतर बाबी:\\nमालमत्ता कर, पाणी कर, विज बिले, सोसायटी देखभाल आणि या कृतीच्या तारखेपर्यंतचे इतर सर्व सरकारी बाबींचा भार विक्रेत्याने सहन केला पाहिजे आणि तो भरणा पाहिजे. या कृतीच्या कार्यान्वयनाच्या तारखेपासून खरेदीदारास या जबाबदाऱ्या स्वीकाराव्या लागतील. जर कोणते मागील बाकी देये नंतर शोधले गेले तर विक्रेत्याला ते संपूर्णपणे स्वच्छ करण्यास जबाबदार राहणे आवश्यक आहे.</td>\n",
       "      <td>0/5</td>\n",
       "      <td>TBD</td>\n",
       "      <td>TBD</td>\n",
       "      <td>TBD</td>\n",
       "    </tr>\n",
       "    <tr>\n",
       "      <th>2</th>\n",
       "      <td>GPT-OSS 120B</td>\n",
       "      <td>३. ताब्याचा वितरण:\\nविक्रेत्याने आज खरेदीदाराला उल्लेखित मालमत्तेचा रिकामा, शांत व शारीरिक ताबा सुपूर्द केला आहे. खरेदीदाराने सखोल तपासणीनंतर व पूर्ण समाधानाने उल्लेखित मालमत्ता स्वीकारली आहे. खरेदीदार मान्य करतो की ताबा कोणत्याही अडथळा किंवा हस्तक्षेपाविना आहे.\\n\\n४. सरकारी कर व इतर देयके:\\nया दस्तऐवजाच्या दिनांकापर्यंतची सर्व सरकारी देयके, जसे की मालमत्ता कर, पाणी शुल्क, वीज बिल, सोसायटी देखभाल व इतर खर्च, विक्रेत्याने वहन व भरलेली असतील. या दस्तऐवजाच्या अंमलबजावणीच्या दिनांकापासून खरेदीदाराने ही जबाबदारी स्वीकारेल. भविष्यात कोणतीही जुनी देयके उघडल्यास, ती फक्त विक्रेत्याची जबाबदारी राहील.</td>\n",
       "      <td>0/5</td>\n",
       "      <td>TBD</td>\n",
       "      <td>TBD</td>\n",
       "      <td>TBD</td>\n",
       "    </tr>\n",
       "    <tr>\n",
       "      <th>3</th>\n",
       "      <td>GPT-OSS 20B</td>\n",
       "      <td>३. मालकीची सुपूर्दगी:\\nविक्रेत्याने आज निर्दिष्ट मालमत्तेची रिक्त, शांत आणि भौतिक मालकी खरेदीदाराला सुपूर्द केली आहे. खरेदीदाराने सखोल तपासणीनंतर आणि पूर्ण समाधानानंतर ती मालमत्ता स्वीकारली आहे. खरेदीदाराने कोणत्याही अडथळा किंवा हस्तक्षेपाशिवाय मालकी स्वीकारल्याचे मान्य केले आहे.\\n\\n४. सरकारी कर व इतर देयके:\\nसंपूर्ण सरकारी देयके, ज्यामध्ये मालमत्ता कर, पाणी शुल्क, वीज बिल, समाजाची देखभाल आणि या दस्तऐवजाच्या तारखेपर्यंतचे इतर सर्व खर्च समाविष्ट आहेत, ते विक्रेत्याने वहन करून भरणे आवश्यक आहे. या दस्तऐवजाच्या अंमलबजावणीच्या तारखेपासून पुढे खरेदीदाराने अशा जबाबदाऱ्या वहन कराव्यात. जर नंतर कोणतीही पूर्वीची देयके आढळली तर ती साफ करण्याची जबाबदारी फक्त विक्रेत्यावरच राहील.</td>\n",
       "      <td>0/5</td>\n",
       "      <td>TBD</td>\n",
       "      <td>TBD</td>\n",
       "      <td>TBD</td>\n",
       "    </tr>\n",
       "  </tbody>\n",
       "</table>\n",
       "</div>\n"
      ],
      "text/plain": [
       "<IPython.core.display.HTML object>"
      ]
     },
     "metadata": {},
     "output_type": "display_data"
    }
   ],
   "source": [
    "import pandas as pd\n",
    "from IPython.display import display, HTML\n",
    "\n",
    "# Ensure full column width\n",
    "pd.set_option('display.max_colwidth', None)\n",
    "\n",
    "# Create scrollable HTML table\n",
    "scrollable_table = df.to_html(escape=False)\n",
    "\n",
    "html = f\"\"\"\n",
    "<div style=\"max-height:500px; overflow:auto; border:1px solid #ccc; padding:5px\">\n",
    "{scrollable_table}\n",
    "</div>\n",
    "\"\"\"\n",
    "\n",
    "display(HTML(html))\n"
   ]
  },
  {
   "cell_type": "code",
   "execution_count": null,
   "metadata": {},
   "outputs": [
    {
     "data": {
      "text/html": [
       "<table border=\"1\" class=\"dataframe\">\n",
       "  <thead>\n",
       "    <tr style=\"text-align: right;\">\n",
       "      <th></th>\n",
       "      <th>Prompt</th>\n",
       "      <th>Google Translate</th>\n",
       "      <th>Groq LLaMA 3.3-70B</th>\n",
       "      <th>GPT-OSS 120B</th>\n",
       "    </tr>\n",
       "  </thead>\n",
       "  <tbody>\n",
       "    <tr>\n",
       "      <th>0</th>\n",
       "      <td>Translate the following text into Marathi exactly preserving legal terms.</td>\n",
       "      <td>3. ताब्यात वितरण:\\nविक्रेत्याने आज रिक्त, शांततापूर्ण आणि त्या मालमत्तेचा भौतिक ताबा खरेदीदारास दिला आहे. संपूर्ण तपासणीनंतर आणि तिच्या पूर्ण समाधानासाठी खरेदीदाराने ही मालमत्ता ताब्यात घेतली आहे. खरेदीदार कोणत्याही अडथळ्यापासून किंवा हस्तक्षेपापासून मुक्त ताबा कबूल करतो.\\n4. सरकारी कर आणि इतर थकबाकी:\\nया कृत्याच्या तारखेपर्यंत मालमत्ता कर, पाणी शुल्क, वीज बिले, सोसायटी देखभाल आणि इतर आउटगोइंगसह सर्व सरकारी थकबाकी विक्रेत्याद्वारे दिली जाईल आणि भरली जाईल. या कराराच्या अंमलबजावणीच्या तारखेपासून खरेदीदार अशा जबाबदा .्या सहन करतील. जर मागील कोणत्याही थकबाकी नंतर सापडली तर विक्रेता त्यांना साफ करण्यासाठी पूर्णपणे जबाबदार राहील.</td>\n",
       "      <td>३. ताबा हस्तांतरण:\\nविक्रेत्याने आज विक्रेत्याने शांतपणे आणि भौतिक ताबा या म्हणजेच सदर मालमत्ता विक्रीकर्त्याने खरेदीदाराला दिला आहे. खरेदीदाराने तपासणी करून आणि त्याच्या पूर्ण समाधानाने सदर मालमत्ता ताब्यात घेतला आहे. खरेदीदार कोणत्याही अडचण किंवा व्यत्ययाशिवाय ताबा मान्य करतो.\\n४. सरकारी कर आणि इतर बाबी:\\nसरकारी कर, पाणी कर, विज बिले, सोसायटी देखभाल, आणि इतर बाह्य खर्च या दिनांकाच्या या कृतीतील सर्व सरकारी बाबी विक्रेत्याने भरणे आणि भरले पाहिजे. खरेदीदार या कृतीच्या कार्यान्वयनाच्या तारखेपासून अशा दायित्वांना सामोरे जाईल. जर कोणती मागील बाबी नंतर शोधली गेली तर विक्रेत्याने त्या संपूर्णपणे साफ करण्यास जबाबदार राहील.</td>\n",
       "      <td>3. Delivery of Possession:  \\nविक्रेत्याने आज रिक्त, शांत व शारीरिक ताबा “Said Property” चा खरेदीदाराला सुपूर्द केला आहे. खरेदीदाराने “Said Property” चे सखोल निरीक्षण करून त्याच्या/तिच्या पूर्ण समाधानानुसार ताबा स्वीकारला आहे. खरेदीदार मान्य करतो की ताबा कोणत्याही अडथळ्याशिवाय किंवा हस्तक्षेपाशिवाय आहे.  \\n\\n4. Government Taxes and Other Dues:  \\nया दस्तऐवजाच्या दिनांकापर्यंतचे सर्व सरकारी देयक, ज्यात मालमत्ता कर, पाणी शुल्क, वीज बिल, सोसायटी देखभाल व इतर सर्व खर्च यांचा समावेश आहे, ते विक्रेत्याने वहन व भरले पाहिजेत. या दस्तऐवजाच्या अंमलबजावणीच्या दिनांकापासून खरेदीदाराने असे दायित्वे वहन करावी. भविष्यात कोणतीही जुनी देयके उघडल्यास, ती साफ करण्याची पूर्ण जबाबदारी विक्रेत्याची राहील.</td>\n",
       "    </tr>\n",
       "    <tr>\n",
       "      <th>1</th>\n",
       "      <td>Translate the following text into Marathi in simple, easy-to-understand Marathi.</td>\n",
       "      <td>3. ताब्यात वितरण:\\nविक्रेत्याने आज रिक्त, शांततापूर्ण आणि त्या मालमत्तेचा भौतिक ताबा खरेदीदारास दिला आहे. संपूर्ण तपासणीनंतर आणि तिच्या पूर्ण समाधानासाठी खरेदीदाराने ही मालमत्ता ताब्यात घेतली आहे. खरेदीदार कोणत्याही अडथळ्यापासून किंवा हस्तक्षेपापासून मुक्त ताबा कबूल करतो.\\n4. सरकारी कर आणि इतर थकबाकी:\\nया कृत्याच्या तारखेपर्यंत मालमत्ता कर, पाणी शुल्क, वीज बिले, सोसायटी देखभाल आणि इतर आउटगोइंगसह सर्व सरकारी थकबाकी विक्रेत्याद्वारे दिली जाईल आणि भरली जाईल. या कराराच्या अंमलबजावणीच्या तारखेपासून खरेदीदार अशा जबाबदा .्या सहन करतील. जर मागील कोणत्याही थकबाकी नंतर सापडली तर विक्रेता त्यांना साफ करण्यासाठी पूर्णपणे जबाबदार राहील.</td>\n",
       "      <td>३. ताबा हस्तांतरण:\\nविक्रेत्याने आज विक्रेत्याने शांतपणे आणि भौतिकदृष्ट्या सदर मालमत्तेचा ताबा खरेदीदाराला दिला आहे. खरेदीदाराने या मालमत्तेची काटेकोरपणे तपासणी केल्यानंतर आणि त्यांच्या पूर्ण समाधानाने सदर मालमत्तेचा ताबा घेतला आहे. खरेदीदार कोणत्याही अडथळ्यां किंवा व्यत्ययाशिवाय ताबा मान्य करतो.\\n\\n४. सरकारी कर आणि इतर बाबी:\\nया कृतीच्या तारखेपर्यंत मालमत्ता कर, पाणी कर, विज बिले, सोसायटी देखभाल आणि इतर बाह्य खर्चांसह सर्व सरकारी बाबींचा भार विक्रेत्याने सहन केला पाहिजे आणि तो भरला पाहिजे. खरेदीदार या कृती निर्धारित केल्यानंतर पुढील सर्व दायित्वांची जबाबदारी स्वीकारतो. जर कोणती मागील बाबी नंतर शोधली गेली तर विक्रेत्याला ती संपूर्णपणे स्वच्छ करण्याची एकट्याची जबाबदारी राहील.</td>\n",
       "      <td>३. मालकीचे हस्तांतरण:\\nविक्रेत्याने आज खरेदीदाराला रिकामे, शांत व शारीरिकरित्या मालमत्तेचे ताबा दिले आहे. खरेदीदाराने सखोल तपासणीनंतर आणि पूर्ण समाधानाने ही मालमत्ता स्वीकारली आहे. खरेदीदार मान्य करतो की ताबा कोणत्याही अडथळ्याशिवाय व हस्तक्षेपाशिवाय मिळाला आहे.\\n\\n४. सरकारी कर व इतर देयके:\\nया दस्तऐवजाच्या दिनांकापर्यंतचे सर्व सरकारी देयके – जसे की मालमत्ता कर, पाणी शुल्क, वीज बिल, सोसायटी देखभाल इत्यादी – विक्रेत्याने भरावीत. या दस्तऐवजावर स्वाक्षरी केल्यानंतरचे सर्व दायित्व खरेदीदारावर येईल. भविष्यात जर कोणतीही जुनी देयके सापडली, तर ती फक्त विक्रेत्याच्याच जबाबदारीत राहतील.</td>\n",
       "    </tr>\n",
       "    <tr>\n",
       "      <th>2</th>\n",
       "      <td>Translate the following text into Marathi keeping professional/legal tone.</td>\n",
       "      <td>3. ताब्यात वितरण:\\nविक्रेत्याने आज रिक्त, शांततापूर्ण आणि त्या मालमत्तेचा भौतिक ताबा खरेदीदारास दिला आहे. संपूर्ण तपासणीनंतर आणि तिच्या पूर्ण समाधानासाठी खरेदीदाराने ही मालमत्ता ताब्यात घेतली आहे. खरेदीदार कोणत्याही अडथळ्यापासून किंवा हस्तक्षेपापासून मुक्त ताबा कबूल करतो.\\n4. सरकारी कर आणि इतर थकबाकी:\\nया कृत्याच्या तारखेपर्यंत मालमत्ता कर, पाणी शुल्क, वीज बिले, सोसायटी देखभाल आणि इतर आउटगोइंगसह सर्व सरकारी थकबाकी विक्रेत्याद्वारे दिली जाईल आणि भरली जाईल. या कराराच्या अंमलबजावणीच्या तारखेपासून खरेदीदार अशा जबाबदा .्या सहन करतील. जर मागील कोणत्याही थकबाकी नंतर सापडली तर विक्रेता त्यांना साफ करण्यासाठी पूर्णपणे जबाबदार राहील.</td>\n",
       "      <td>३. ताबा हस्तांतरण:\\nविक्रेत्याने आज विक्रीकर्त्याला सांगितलेल्या मालमत्तेचे रिक्त, शांतिपूर्ण आणि भौतिक ताबा विक्रीकर्त्याला दिला आहे. विक्रीकर्त्याने तपासणी करून आणि त्यांच्या पूर्ण समाधानाने सांगितलेली मालमत्ता घेतली आहे. विक्रीकर्त्याने कोणत्याही अडचण किंवा व्यत्ययाशिवाय ताबा मान्य केला आहे.\\n\\n४. सरकारी कर आणि इतर बाबी:\\nसरकारी कर, पाणी पुरवठा, विज बिले, सोसायटी देखभाल आणि या कृतीच्या तारखेपर्यंतचे इतर बाह्य खर्च विक्रेत्याने भरणे आणि भरणे आवश्यक आहे. विक्रीकर्त्याने या कृतीच्या कार्यान्वयनाच्या तारखेपासून अशा दायित्वांची वागणूक करणे आवश्यक आहे. जर कोणती मागील बाकी नंतर शोधली गेली तर विक्रेत्याने ती संपूर्णपणे स्वच्छ करण्यास जबाबदार राहील.</td>\n",
       "      <td>३. ताब्याचा वितरण:\\nविक्रेत्याने आज खरेदीदाराला उल्लेखित मालमत्तेचा रिकामा, शांत व शारीरिक ताबा सुपूर्द केला आहे. खरेदीदाराने सखोल तपासणीनंतर व पूर्ण समाधानाने उल्लेखित मालमत्ता स्वीकारली आहे. खरेदीदार मान्य करतो की ताबा कोणत्याही अडथळा किंवा हस्तक्षेपाविना आहे.\\n\\n४. सरकारी कर व इतर देयके:\\nया दस्तऐवजाच्या दिनांकापर्यंतची सर्व सरकारी देयके, ज्यात मालमत्ता कर, पाणी शुल्क, वीज बिल, सोसायटी देखभाल व इतर सर्व खर्च यांचा समावेश आहे, ते विक्रेत्याने वहन व भरावे. या दस्तऐवजाच्या अंमलबजावणीच्या दिनांकापासून खरेदीदाराने हे दायित्वे वहन करावीत. भविष्यात कोणतीही जुनी देयके उघड झाल्यास, ती साफ करण्याची पूर्ण जबाबदारी विक्रेत्याची राहील.</td>\n",
       "    </tr>\n",
       "    <tr>\n",
       "      <th>3</th>\n",
       "      <td>Translate the following English legal text into Marathi exactly preserving all legal terms and clause structures. \\n    Use precise legal terminology. Do not simplify or reword any clauses. Maintain numbering, punctuation, and formatting as in the original text.</td>\n",
       "      <td>3. ताब्यात वितरण:\\nविक्रेत्याने आज रिक्त, शांततापूर्ण आणि त्या मालमत्तेचा भौतिक ताबा खरेदीदारास दिला आहे. संपूर्ण तपासणीनंतर आणि तिच्या पूर्ण समाधानासाठी खरेदीदाराने ही मालमत्ता ताब्यात घेतली आहे. खरेदीदार कोणत्याही अडथळ्यापासून किंवा हस्तक्षेपापासून मुक्त ताबा कबूल करतो.\\n4. सरकारी कर आणि इतर थकबाकी:\\nया कृत्याच्या तारखेपर्यंत मालमत्ता कर, पाणी शुल्क, वीज बिले, सोसायटी देखभाल आणि इतर आउटगोइंगसह सर्व सरकारी थकबाकी विक्रेत्याद्वारे दिली जाईल आणि भरली जाईल. या कराराच्या अंमलबजावणीच्या तारखेपासून खरेदीदार अशा जबाबदा .्या सहन करतील. जर मागील कोणत्याही थकबाकी नंतर सापडली तर विक्रेता त्यांना साफ करण्यासाठी पूर्णपणे जबाबदार राहील.</td>\n",
       "      <td>३. ताबा हस्तांतरण:\\nविक्रेत्याने आज विक्रीकरारात वर्णन केलेल्या संपत्तीचे रिक्त, शांततापूर्ण आणि भौतिक ताबा खरेदीदारास हस्तांतरित केला आहे. खरेदीदाराने संपूर्ण तपासणी करून आणि त्याच्या पूर्ण समाधानासाठी संपत्त्ती ताब्यात घेतली आहे. खरेदीदार कोणत्याही अडचण किंवा व्यत्ययाशिवाय ताबा मान्य करतो.\\n४. सरकारी कर आणि इतर बाबी:\\nसरकारी कर, पाणी कर, विज बिले, सोसायटी देखभाल आणि या कृतीच्या तारखेपर्यंतचे इतर बाह्य खर्च यासारखे सर्व सरकारी बाबी विक्रेत्याने भरणे आणि भरणे आहे. खरेदीदार या कृतीच्या कार्यान्वयनाच्या तारखेपासून अशा दायित्वांना सामोरे जाईल. जर कोणती मागील बाबी नंतर शोधली गेली तर विक्रेत्याला त्या संपूर्णपणे सोडवण्याची एकट्याची जबाबदारी राहील.</td>\n",
       "      <td>3. Delivery of Possession:\\nSeller ने आज Vacant, Peaceful, आणि Physical Possession of the Said Property Buyer ला दिली आहे. Buyer ने Said Property पूर्ण तपासणीनंतर आणि त्याच्या/तिच्या पूर्ण समाधानानुसार स्वीकारली आहे. Buyer हे मान्य करतो/करते की Possession कोणत्याही अडथळा किंवा हस्तक्षेपाविना आहे.\\n\\n4. Government Taxes and Other Dues:\\nया दस्तऐवजाच्या दिनांकापर्यंतचे सर्व Government Dues, ज्यात Property Tax, Water Charges, Electricity Bills, Society Maintenance, आणि इतर सर्व खर्च यांचा समावेश आहे, Seller द्वारे वहन व भरले जातील. Buyer हा दायित्व या दस्तऐवजाच्या अंमलबजावणीच्या दिनांकापासून वहन करेल. जर नंतर कोणतेही भूतकाळातील dues आढळले, तर Seller त्यांना साफ करण्यासाठी एकटाच जबाबदार राहील.</td>\n",
       "    </tr>\n",
       "    <tr>\n",
       "      <th>4</th>\n",
       "      <td>Translate the following English legal text into Marathi in a professional and formal legal style suitable for official documentation. \\n    Preserve legal terms but make the sentences flow naturally. Use polite, formal Marathi appropriate for contracts, agreements, or deeds.</td>\n",
       "      <td>3. ताब्यात वितरण:\\nविक्रेत्याने आज रिक्त, शांततापूर्ण आणि त्या मालमत्तेचा भौतिक ताबा खरेदीदारास दिला आहे. संपूर्ण तपासणीनंतर आणि तिच्या पूर्ण समाधानासाठी खरेदीदाराने ही मालमत्ता ताब्यात घेतली आहे. खरेदीदार कोणत्याही अडथळ्यापासून किंवा हस्तक्षेपापासून मुक्त ताबा कबूल करतो.\\n4. सरकारी कर आणि इतर थकबाकी:\\nया कृत्याच्या तारखेपर्यंत मालमत्ता कर, पाणी शुल्क, वीज बिले, सोसायटी देखभाल आणि इतर आउटगोइंगसह सर्व सरकारी थकबाकी विक्रेत्याद्वारे दिली जाईल आणि भरली जाईल. या कराराच्या अंमलबजावणीच्या तारखेपासून खरेदीदार अशा जबाबदा .्या सहन करतील. जर मागील कोणत्याही थकबाकी नंतर सापडली तर विक्रेता त्यांना साफ करण्यासाठी पूर्णपणे जबाबदार राहील.</td>\n",
       "      <td>३. ताबा हस्तांतरण:\\nविक्रेत्याने आज त्यांनी वर नमूद केलेल्या संपत्तीचे रिक्त, शांतिपूर्ण आणि भौतिक ताबा खरेदीदाराला हस्तांतरित केला आहे. खरेदीदाराने तपासणी करून आणि त्यांच्या पूर्ण समाधानाने वर नमूद केलेली संपत्ती ताब्यात घेतली आहे. खरेदीदार अडथळा किंवा व्यत्ययाशिवाय ताबा मान्य करतो.\\n४. सरकारी कर आणि इतर बाबी:\\nसरकारी कर, पाणी पुरवठा, विज बिले, सोसायटी देखभाल, आणि इतर बाह्य खर्च या कराराच्या तारखेपर्यंत विक्रेत्याने भरणे आणि अदा करणे आवश्यक आहे. खरेदीदार या कराराच्या तारखेपासून अशा दायित्वांची वागणूक करेल. जर कोणती मागील बाकी दायित्वे नंतर समोर आली, तर विक्रेत्याला ती संपूर्णपणे सोडवण्याची एकट्याची जबाबदारी राहील.</td>\n",
       "      <td>३. मालकीचे वितरण:  \\nविक्रेत्याने आज खरेदीदारास उक्त मालमत्तेचा रिकामा, शांत व शारीरिक ताबा सुपूर्द केला आहे. खरेदीदाराने सखोल तपासणीनंतर व पूर्ण समाधानाने उक्त मालमत्ता स्वीकारली आहे. खरेदीदार मान्य करतो की ताबा कोणत्याही अडथळा किंवा हस्तक्षेपाविना प्राप्त झाला आहे.  \\n\\n४. सरकारी कर व इतर देयके:  \\nया दस्तऐवजाच्या दिनांकापर्यंतची सर्व सरकारी देयके, ज्यात मालमत्ता कर, जलशुल्क, वीज बिल, सोसायटी देखभाल व इतर सर्व खर्च यांचा समावेश आहे, ते विक्रेत्याने वहन व भरून काढावेत. या दस्तऐवजाच्या अंमलबजावणीच्या दिनांकापासून पुढे सर्व संबंधित जबाबदाऱ्या खरेदीदारावर राहतील. भविष्यात कोणतीही जुनी देयके उघड झाल्यास, ती देयके फक्त विक्रेत्याच्याच जबाबदारीत राहतील.</td>\n",
       "    </tr>\n",
       "    <tr>\n",
       "      <th>5</th>\n",
       "      <td>Translate the following English legal text into Marathi as a concise but legally accurate summary. Keep all rights, obligations, and \\n    clauses intact, but reduce redundancy. Suitable for executives or quick review.</td>\n",
       "      <td>3. ताब्यात वितरण:\\nविक्रेत्याने आज रिक्त, शांततापूर्ण आणि त्या मालमत्तेचा भौतिक ताबा खरेदीदारास दिला आहे. संपूर्ण तपासणीनंतर आणि तिच्या पूर्ण समाधानासाठी खरेदीदाराने ही मालमत्ता ताब्यात घेतली आहे. खरेदीदार कोणत्याही अडथळ्यापासून किंवा हस्तक्षेपापासून मुक्त ताबा कबूल करतो.\\n4. सरकारी कर आणि इतर थकबाकी:\\nया कृत्याच्या तारखेपर्यंत मालमत्ता कर, पाणी शुल्क, वीज बिले, सोसायटी देखभाल आणि इतर आउटगोइंगसह सर्व सरकारी थकबाकी विक्रेत्याद्वारे दिली जाईल आणि भरली जाईल. या कराराच्या अंमलबजावणीच्या तारखेपासून खरेदीदार अशा जबाबदा .्या सहन करतील. जर मागील कोणत्याही थकबाकी नंतर सापडली तर विक्रेता त्यांना साफ करण्यासाठी पूर्णपणे जबाबदार राहील.</td>\n",
       "      <td>३. ताबा हस्तांतरण:\\nविक्रेत्याने आज विक्रीयोग्य मालमत्ता खाली दिलेल्या शांततापूर्ण आणि भौतिक ताब्यात मालकाला दिला आहे. खरेदीदाराने तपासणी करून आणि त्याच्या पूर्ण समाधानाने मालमत्ता घेतली आहे. खरेदीदार ताबा कोणत्याही अडचण किंवा व्यत्ययाशिवाय मान्य करतो.\\n४. सरकारी कर आणि इतर बाबींची देयके:\\nसरकारी देयके, जसे की मालमत्ता कर, पाणी शुल्क, विज बिले, सोसायटी देखभाल आणि या कृतीच्या तारखेपर्यंतची इतर बाह्य गोष्टी विक्रेत्याने वहन करणे आणि ते देय करणे आवश्यक आहे. खरेदीदार या कृतीच्या कार्यान्वयनाच्या तारखेपासून अशा देयके वहन करेल. जर कोणती मागील देयके नंतर शोधली गेली तर विक्रेत्याला ती संपूर्णपणे स्वच्छ करण्यास जबाबदार राहणे आवश्यक आहे.</td>\n",
       "      <td>**३. ताबा सुपूर्दगी:**  \\nविक्रेत्याने आज रिकामा, शांत व शारीरिक ताबा खरेदीदाराला दिला आहे. खरेदीदाराने पूर्ण तपासणीनंतर समाधानाने ताबा स्वीकारला व तो कोणत्याही अडथळ्याशिवाय असल्याचे मान्य करतो.  \\n\\n**४. सरकारी कर व इतर देयके:**  \\nया कराराच्या दिनांकापर्यंतचे सर्व सरकारी देयके (मालमत्ता कर, पाणी शुल्क, वीज बिल, सोसायटी देखभाल इ.) विक्रेत्याने भरावीत. कराराच्या अंमलबजावणीच्या दिनांकापासूनचे सर्व देयके खरेदीदाराची जबाबदारी आहे. भविष्यात उघडलेली कोणतीही जुनी देयके फक्त विक्रेत्यानेच भरावीत.</td>\n",
       "    </tr>\n",
       "    <tr>\n",
       "      <th>6</th>\n",
       "      <td>Translate the following English legal text into Marathi. Ensure all key legal terms like 'possession', 'Seller', 'Buyer', and 'government dues' are correctly translated. Maintain full context and structure. If a term has multiple possible translations, choose the one used in Indian legal documents.</td>\n",
       "      <td>3. ताब्यात वितरण:\\nविक्रेत्याने आज रिक्त, शांततापूर्ण आणि त्या मालमत्तेचा भौतिक ताबा खरेदीदारास दिला आहे. संपूर्ण तपासणीनंतर आणि तिच्या पूर्ण समाधानासाठी खरेदीदाराने ही मालमत्ता ताब्यात घेतली आहे. खरेदीदार कोणत्याही अडथळ्यापासून किंवा हस्तक्षेपापासून मुक्त ताबा कबूल करतो.\\n4. सरकारी कर आणि इतर थकबाकी:\\nया कृत्याच्या तारखेपर्यंत मालमत्ता कर, पाणी शुल्क, वीज बिले, सोसायटी देखभाल आणि इतर आउटगोइंगसह सर्व सरकारी थकबाकी विक्रेत्याद्वारे दिली जाईल आणि भरली जाईल. या कराराच्या अंमलबजावणीच्या तारखेपासून खरेदीदार अशा जबाबदा .्या सहन करतील. जर मागील कोणत्याही थकबाकी नंतर सापडली तर विक्रेता त्यांना साफ करण्यासाठी पूर्णपणे जबाबदार राहील.</td>\n",
       "      <td>३. ताबा हस्तांतरण:\\nविक्रेत्याने आज विक्रेत्याने वरील संपत्तीचे रिक्त, शांतिपूर्ण आणि भौतिक ताबा खरेदीदाराला हस्तांतरित केला आहे. खरेदीदाराने तपासणी करून आणि त्याच्या पूर्ण समाधानाने वरील संपत्ती ताब्यात घेतली आहे. खरेदीदाराने कोणत्याही अडचण किंवा व्यत्ययाशिवाय ताबा मिळाल्याचे मान्य केले आहे.\\n\\n४. सरकारी कर आणि इतर बाबींची देयके:\\nया दस्तऐवजाच्या तारखेपर्यंतचे सर्व सरकारी देयके, जसे की मालमत्ता कर, पाणी कर, विज बिले, सोसायटी देखभाल आणि इतर बाह्य खर्च, विक्रेत्याने वहन करणे आणि ते अदा करणे आवश्यक आहे. खरेदीदाराने या दस्तऐवजाच्या कार्यान्वितीच्या तारखेपासून अशा देयके वहन करणे आवश्यक आहे. जर कोणतीही मागील देयके नंतर शोधली गेली तर, विक्रेत्याने ती एकट्याने संपूर्णपणे सोडविण्याची जबाबदारी असेल.</td>\n",
       "      <td>**३. हक्काची सुपूर्दगी:**  \\nविक्रेत्याने आज खरेदीदाराला उक्त मालमत्तेचा रिकामा, शांत व शारीरिक हक्क खरेदीदाराला सुपूर्द केला आहे. खरेदीदाराने सखोल तपासणीनंतर व पूर्ण समाधानाने उक्त मालमत्ता स्वीकारली आहे. खरेदीदार मान्य करतो की हक्क कोणत्याही अडथळा किंवा हस्तक्षेपाविना आहे.  \\n\\n**४. सरकारी कर व इतर देयके:**  \\nजमिनीचा कर, पाणी शुल्क, वीज बिल, समाज देखभाल व इतर सर्व सरकारी देयके या दस्तऐवजाच्या दिनांकापर्यंत विक्रेत्याने वहन व भरले जाईल. खरेदीदाराने या दस्तऐवजाच्या अंमलबजावणीच्या दिनांकापासून या जबाबदाऱ्या वहन कराव्यात. भविष्यात कोणतीही जुनी देयके उघडल्यास, ती फक्त विक्रेत्याची जबाबदारी राहील.</td>\n",
       "    </tr>\n",
       "  </tbody>\n",
       "</table>"
      ],
      "text/plain": [
       "<IPython.core.display.HTML object>"
      ]
     },
     "metadata": {},
     "output_type": "display_data"
    }
   ],
   "source": [
    "import pandas as pd\n",
    "from googletrans import Translator\n",
    "from groq import Groq\n",
    "from IPython.display import display, HTML\n",
    "\n",
    "translator = Translator()\n",
    "client = Groq(api_key=\"GROQ_API_KEY\")\n",
    "\n",
    "english_text = \"\"\"\n",
    "3. Delivery of Possession:\n",
    "The Seller has today delivered vacant, peaceful, and physical possession of the Said Property to the Buyer. The Buyer has taken over the Said Property after thorough inspection and to his/her full satisfaction. The Buyer acknowledges possession free from any hindrance or interference.\n",
    "4. Government Taxes and Other Dues:\n",
    "All government dues, including property tax, water charges, electricity bills, society maintenance, and other outgoings up to the date of this deed shall be borne and paid by the Seller. The Buyer shall bear such liabilities from the date of execution of this deed onwards. If any past dues are discovered later, the Seller shall remain solely liable to clear them.\n",
    "\"\"\"\n",
    "\n",
    "prompts = [\n",
    "    \"Translate the following text into Marathi exactly preserving legal terms.\",\n",
    "    \"Translate the following text into Marathi in simple, easy-to-understand Marathi.\",\n",
    "    \"Translate the following text into Marathi keeping professional/legal tone.\",\n",
    "    \"\"\"Translate the following English legal text into Marathi exactly preserving all legal terms and clause structures. \n",
    "    Use precise legal terminology. Do not simplify or reword any clauses. Maintain numbering, punctuation, and formatting as in the original text.\"\"\",\n",
    "    \"\"\"Translate the following English legal text into Marathi in a professional and formal legal style suitable for official documentation. \n",
    "    Preserve legal terms but make the sentences flow naturally. Use polite, formal Marathi appropriate for contracts, agreements, or deeds.\"\"\",\n",
    "    \"\"\"Translate the following English legal text into Marathi as a concise but legally accurate summary. Keep all rights, obligations, and \n",
    "    clauses intact, but reduce redundancy. Suitable for executives or quick review.\"\"\",\n",
    "    \"\"\"Translate the following English legal text into Marathi. Ensure all key legal terms like 'possession', 'Seller', 'Buyer', and 'government dues' \n",
    "    are correctly translated. Maintain full context and structure. If a term has multiple possible translations, choose the one used in Indian legal documents.\"\"\"\n",
    "]\n",
    "\n",
    "\n",
    "def groq_translate(prompt):\n",
    "    return client.chat.completions.create(\n",
    "        model=\"llama-3.3-70b-versatile\",\n",
    "        messages=[\n",
    "            {\"role\": \"system\", \"content\": \"You are a translator that outputs Marathi text only.\"},\n",
    "            {\"role\": \"user\", \"content\": f\"{prompt}\\n\\n{english_text}\"}\n",
    "        ],\n",
    "        temperature=0.1,\n",
    "        max_tokens=1500,\n",
    "    ).choices[0].message.content\n",
    "\n",
    "\n",
    "def gpt_120b_translate(prompt):\n",
    "    return client.chat.completions.create(\n",
    "        model=\"openai/gpt-oss-120b\",\n",
    "        messages=[\n",
    "            {\"role\": \"system\", \"content\": \"You are a translator that outputs Marathi text only.\"},\n",
    "            {\"role\": \"user\", \"content\": f\"{prompt}\\n\\n{english_text}\"}\n",
    "        ],\n",
    "        temperature=0.1,\n",
    "        max_tokens=1500,\n",
    "    ).choices[0].message.content\n",
    "\n",
    "\n",
    "results = []\n",
    "\n",
    "for prompt in prompts:\n",
    "    \n",
    "    google_translation = (await translator.translate([english_text], dest='mr'))[0].text\n",
    "    \n",
    "    groq_translation = groq_translate(prompt)\n",
    "    gpt120b_translation = gpt_120b_translate(prompt)\n",
    "    \n",
    "    results.append({\n",
    "        \"Prompt\": prompt,\n",
    "        \"Google Translate\": google_translation,\n",
    "        \"Groq LLaMA 3.3-70B\": groq_translation,\n",
    "        \"GPT-OSS 120B\": gpt120b_translation\n",
    "    })\n",
    "\n",
    "\n",
    "df = pd.DataFrame(results)\n",
    "\n",
    "\n",
    "pd.set_option('display.max_colwidth', None)\n",
    "display(HTML(df.to_html(escape=False)))\n"
   ]
  },
  {
   "cell_type": "code",
   "execution_count": null,
   "metadata": {},
   "outputs": [],
   "source": []
  }
 ],
 "metadata": {
  "kaggle": {
   "accelerator": "none",
   "dataSources": [],
   "dockerImageVersionId": 31089,
   "isGpuEnabled": false,
   "isInternetEnabled": true,
   "language": "python",
   "sourceType": "notebook"
  },
  "kernelspec": {
   "display_name": "base",
   "language": "python",
   "name": "python3"
  },
  "language_info": {
   "codemirror_mode": {
    "name": "ipython",
    "version": 3
   },
   "file_extension": ".py",
   "mimetype": "text/x-python",
   "name": "python",
   "nbconvert_exporter": "python",
   "pygments_lexer": "ipython3",
   "version": "3.13.5"
  }
 },
 "nbformat": 4,
 "nbformat_minor": 4
}
